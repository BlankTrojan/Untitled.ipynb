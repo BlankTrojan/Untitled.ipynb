{
 "cells": [
  {
   "cell_type": "markdown",
   "id": "b1f66064",
   "metadata": {},
   "source": [
    "# Fake News Authenticator"
   ]
  },
  {
   "cell_type": "code",
   "execution_count": null,
   "id": "6b0c33da",
   "metadata": {},
   "outputs": [],
   "source": [
    "import pandas as  pd\n",
    "import numpy as np\n",
    "from sklearn.model_selection import train_test_split\n",
    "from sklearn.metrics import classification_report\n",
    "import re \n",
    "import string"
   ]
  },
  {
   "cell_type": "markdown",
   "id": "bf4be861",
   "metadata": {},
   "source": [
    "### Inserting fake and real dataset"
   ]
  },
  {
   "cell_type": "code",
   "execution_count": null,
   "id": "20735109",
   "metadata": {},
   "outputs": [],
   "source": [
    "df_fake = pd.read_csv(\"Fake.csv\")\n",
    "df_true = pd.read_csv(\"True.csv\")"
   ]
  },
  {
   "cell_type": "code",
   "execution_count": null,
   "id": "dd553f3d",
   "metadata": {},
   "outputs": [],
   "source": [
    "df_fake.head(10);"
   ]
  },
  {
   "cell_type": "code",
   "execution_count": null,
   "id": "c9e8153e",
   "metadata": {},
   "outputs": [],
   "source": [
    "df_true.head(10);"
   ]
  },
  {
   "cell_type": "markdown",
   "id": "994989ee",
   "metadata": {},
   "source": [
    "##### Inserting a column called \"class\" for fake and real news dataset to categories fake and true news."
   ]
  },
  {
   "cell_type": "code",
   "execution_count": null,
   "id": "c12e7bde",
   "metadata": {},
   "outputs": [],
   "source": [
    "df_fake[\"class\"] = 0 \n",
    "df_true[\"class\"] = 1 "
   ]
  },
  {
   "cell_type": "markdown",
   "id": "455942df",
   "metadata": {},
   "source": [
    "##### Removing last 10 rows from both the dataset, for manual testing"
   ]
  },
  {
   "cell_type": "code",
   "execution_count": null,
   "id": "e73d5d84",
   "metadata": {},
   "outputs": [],
   "source": [
    "df_fake.shape, df_true.shape;"
   ]
  },
  {
   "cell_type": "code",
   "execution_count": null,
   "id": "f778d8d8",
   "metadata": {},
   "outputs": [],
   "source": [
    "df_fake_manual_testing = df_fake.tail(10)\n",
    "for i in range(23480,23470,-1):\n",
    "    df_fake.drop([i], axis = 0, inplace = True)\n",
    "df_true_manual_testing = df_true.tail(10)\n",
    "for i in range(21416,21406,-1):\n",
    "    df_true.drop([i], axis = 0, inplace = True)"
   ]
  },
  {
   "cell_type": "code",
   "execution_count": null,
   "id": "76788d07",
   "metadata": {},
   "outputs": [],
   "source": [
    "df_manual_testing = pd.concat([df_fake_manual_testing, df_true_manual_testing], axis=0 )\n",
    "df_manual_testing.to_csv(\"manual_test.csv\")"
   ]
  },
  {
   "cell_type": "code",
   "execution_count": null,
   "id": "3ffc6eca",
   "metadata": {},
   "outputs": [],
   "source": [
    "df_marge = pd.concat([df_fake, df_true], axis = 0)\n",
    "df_marge.head(10);"
   ]
  },
  {
   "cell_type": "code",
   "execution_count": null,
   "id": "042c61b4",
   "metadata": {},
   "outputs": [],
   "source": [
    "df = df_marge.drop([\"title\", \"subject\", \"date\",], axis = 1)\n",
    "df.head(10);"
   ]
  },
  {
   "cell_type": "code",
   "execution_count": null,
   "id": "2085e934",
   "metadata": {},
   "outputs": [],
   "source": [
    "df_manual_testing = pd.concat([df_fake_manual_testing,df_true_manual_testing], axis = 0)\n",
    "df_manual_testing.to_csv(\"manual_testing.csv\")"
   ]
  },
  {
   "cell_type": "markdown",
   "id": "10a2cbc5",
   "metadata": {},
   "source": [
    "##### Merging the main fake and true dataframe"
   ]
  },
  {
   "cell_type": "code",
   "execution_count": null,
   "id": "7437a5b2",
   "metadata": {},
   "outputs": [],
   "source": [
    "df = df.sample(frac = 1)"
   ]
  },
  {
   "cell_type": "code",
   "execution_count": null,
   "id": "41c2fc46",
   "metadata": {},
   "outputs": [],
   "source": [
    "df.head(10);"
   ]
  },
  {
   "cell_type": "code",
   "execution_count": null,
   "id": "d85f687d",
   "metadata": {},
   "outputs": [],
   "source": [
    "df.isnull().sum();"
   ]
  },
  {
   "cell_type": "markdown",
   "id": "f4586743",
   "metadata": {},
   "source": [
    "#### \"title\", \"subject\" and \"date\" columns is not required for detecting the fake news, so I am going to drop the columns."
   ]
  },
  {
   "cell_type": "code",
   "execution_count": null,
   "id": "58beafde",
   "metadata": {},
   "outputs": [],
   "source": [
    "def word_drop(text):\n",
    "    text = text.lower()\n",
    "    text = re.sub('\\[.*?\\]', '', text)\n",
    "    text = re.sub(\"\\\\W\", \" \",text)\n",
    "    text = re.sub('https://\\S+|www\\.\\S+', '', text)\n",
    "    text = re.sub('<.*?>+', '', text)\n",
    "    text = re.sub('[%s]'% re.escape(string.punctuation), '', text)\n",
    "    text = re.sub('\\n','', text)\n",
    "    text = re.sub('\\w*\\d\\w*', '', text)\n",
    "    return text"
   ]
  },
  {
   "cell_type": "code",
   "execution_count": null,
   "id": "f16b3d8b",
   "metadata": {},
   "outputs": [],
   "source": [
    "df[\"text\"] = df[\"text\"].apply(word_drop)"
   ]
  },
  {
   "cell_type": "code",
   "execution_count": null,
   "id": "7d7dbcf0",
   "metadata": {},
   "outputs": [],
   "source": [
    "df.head(10);"
   ]
  },
  {
   "cell_type": "markdown",
   "id": "a7bd735d",
   "metadata": {},
   "source": [
    "#### Defining dependent and independent variable as x and y"
   ]
  },
  {
   "cell_type": "code",
   "execution_count": null,
   "id": "30c14c60",
   "metadata": {},
   "outputs": [],
   "source": [
    "x = df[\"text\"]\n",
    "y = df[\"class\"]"
   ]
  },
  {
   "cell_type": "markdown",
   "id": "6b0e2951",
   "metadata": {},
   "source": [
    "#### Splitting the dataset into training set and testing set."
   ]
  },
  {
   "cell_type": "code",
   "execution_count": null,
   "id": "ae933ed8",
   "metadata": {},
   "outputs": [],
   "source": [
    "x_train, x_test, y_train, y_test = train_test_split(x, y, test_size=.25)"
   ]
  },
  {
   "cell_type": "markdown",
   "id": "263477b6",
   "metadata": {},
   "source": [
    "#### Convert text to vectors"
   ]
  },
  {
   "cell_type": "code",
   "execution_count": null,
   "id": "2708b145",
   "metadata": {},
   "outputs": [],
   "source": [
    "from sklearn.feature_extraction.text import TfidfVectorizer"
   ]
  },
  {
   "cell_type": "code",
   "execution_count": null,
   "id": "bb15d155",
   "metadata": {},
   "outputs": [],
   "source": [
    "vectrorization = TfidfVectorizer()\n",
    "xv_train =  vectrorization.fit_transform(x_train)\n",
    "xv_test = vectrorization.transform(x_test)"
   ]
  },
  {
   "cell_type": "markdown",
   "id": "c31d7d71",
   "metadata": {},
   "source": [
    "### 1. Logistic Regression"
   ]
  },
  {
   "cell_type": "code",
   "execution_count": null,
   "id": "b784fbd7",
   "metadata": {},
   "outputs": [],
   "source": [
    "from sklearn.linear_model import LogisticRegression"
   ]
  },
  {
   "cell_type": "code",
   "execution_count": null,
   "id": "6609b66a",
   "metadata": {},
   "outputs": [],
   "source": [
    "LR = LogisticRegression();\n",
    "LR.fit(xv_train, y_train);"
   ]
  },
  {
   "cell_type": "code",
   "execution_count": null,
   "id": "76594fc4",
   "metadata": {},
   "outputs": [],
   "source": [
    "LR.score(xv_test, y_test);"
   ]
  },
  {
   "cell_type": "code",
   "execution_count": null,
   "id": "0206ea79",
   "metadata": {},
   "outputs": [],
   "source": [
    "pred_LR = LR.predict(xv_test)"
   ]
  },
  {
   "cell_type": "code",
   "execution_count": null,
   "id": "75e3221f",
   "metadata": {},
   "outputs": [],
   "source": [
    "print(classification_report(y_test, pred_LR));"
   ]
  },
  {
   "cell_type": "markdown",
   "id": "8fc322cc",
   "metadata": {},
   "source": [
    "### 2. Decision Tree Classification"
   ]
  },
  {
   "cell_type": "code",
   "execution_count": null,
   "id": "b1561081",
   "metadata": {},
   "outputs": [],
   "source": [
    "from sklearn.tree import DecisionTreeClassifier"
   ]
  },
  {
   "cell_type": "code",
   "execution_count": null,
   "id": "3efd98ca",
   "metadata": {},
   "outputs": [],
   "source": [
    "DT = DecisionTreeClassifier();\n",
    "DT.fit(xv_train, y_train);"
   ]
  },
  {
   "cell_type": "code",
   "execution_count": null,
   "id": "f048c81c",
   "metadata": {},
   "outputs": [],
   "source": [
    "DT.score(xv_test, y_test);"
   ]
  },
  {
   "cell_type": "code",
   "execution_count": null,
   "id": "4c69d42d",
   "metadata": {},
   "outputs": [],
   "source": [
    "pred_DT = DT.predict(xv_test)"
   ]
  },
  {
   "cell_type": "code",
   "execution_count": null,
   "id": "9e55e5d9",
   "metadata": {},
   "outputs": [],
   "source": [
    "print(classification_report(y_test, pred_DT));"
   ]
  },
  {
   "cell_type": "markdown",
   "id": "ac51aef6",
   "metadata": {},
   "source": [
    "### 3. Gradient Boosting Classifier"
   ]
  },
  {
   "cell_type": "code",
   "execution_count": null,
   "id": "a895af9c",
   "metadata": {},
   "outputs": [],
   "source": [
    "from sklearn.ensemble import GradientBoostingClassifier"
   ]
  },
  {
   "cell_type": "code",
   "execution_count": null,
   "id": "6bce6ce1",
   "metadata": {},
   "outputs": [],
   "source": [
    "GBC = GradientBoostingClassifier(random_state = 0);\n",
    "GBC.fit(xv_train, y_train);"
   ]
  },
  {
   "cell_type": "code",
   "execution_count": null,
   "id": "dd61fa58",
   "metadata": {},
   "outputs": [],
   "source": [
    "GradientBoostingClassifier(random_state=0);"
   ]
  },
  {
   "cell_type": "code",
   "execution_count": null,
   "id": "cfbf95af",
   "metadata": {},
   "outputs": [],
   "source": [
    "GBC.score(xv_test, y_test);"
   ]
  },
  {
   "cell_type": "code",
   "execution_count": null,
   "id": "9e083ec3",
   "metadata": {},
   "outputs": [],
   "source": [
    "pred_GBC = GBC.predict(xv_test)"
   ]
  },
  {
   "cell_type": "code",
   "execution_count": null,
   "id": "f87e9739",
   "metadata": {},
   "outputs": [],
   "source": [
    "print(classification_report(y_test, pred_GBC));"
   ]
  },
  {
   "cell_type": "markdown",
   "id": "91b6c73e",
   "metadata": {},
   "source": [
    "### 4. Random Forest Classifier"
   ]
  },
  {
   "cell_type": "code",
   "execution_count": null,
   "id": "7091d95b",
   "metadata": {},
   "outputs": [],
   "source": [
    "from sklearn.ensemble import RandomForestClassifier"
   ]
  },
  {
   "cell_type": "code",
   "execution_count": null,
   "id": "6eb7e197",
   "metadata": {},
   "outputs": [],
   "source": [
    "RFC = RandomForestClassifier(random_state = 0);\n",
    "RFC.fit(xv_train, y_train);"
   ]
  },
  {
   "cell_type": "code",
   "execution_count": null,
   "id": "bce476e8",
   "metadata": {},
   "outputs": [],
   "source": [
    "RandomForestClassifier(random_state=0);"
   ]
  },
  {
   "cell_type": "code",
   "execution_count": null,
   "id": "fb52437f",
   "metadata": {},
   "outputs": [],
   "source": [
    "RFC.score(xv_test, y_test);"
   ]
  },
  {
   "cell_type": "code",
   "execution_count": null,
   "id": "932de84d",
   "metadata": {
    "scrolled": true
   },
   "outputs": [],
   "source": [
    "pred_RFC = RFC.predict(xv_test)"
   ]
  },
  {
   "cell_type": "code",
   "execution_count": null,
   "id": "5d4b2304",
   "metadata": {},
   "outputs": [],
   "source": [
    "print(classification_report(y_test, pred_RFC));"
   ]
  },
  {
   "cell_type": "markdown",
   "id": "7888721f",
   "metadata": {},
   "source": [
    "## Model Testing With Manual Entry"
   ]
  },
  {
   "cell_type": "markdown",
   "id": "f5130d0a",
   "metadata": {},
   "source": [
    "##### News"
   ]
  },
  {
   "cell_type": "code",
   "execution_count": null,
   "id": "579bdb90",
   "metadata": {},
   "outputs": [],
   "source": [
    "def output_lable(n):\n",
    "    if n == 0:\n",
    "        return \"Fake News\"\n",
    "    elif n == 1:\n",
    "        return \"Not A Fake News\"\n",
    "        \n",
    "def manual_testing(news):\n",
    "    testing_news = {\"text\":[news]}\n",
    "    new_def_test = pd.DataFrame(testing_news)\n",
    "    new_def_test[\"text\"] = new_def_test[\"text\"].apply(word_drop)\n",
    "    new_x_test = new_def_test[\"text\"]\n",
    "    new_xv_test = vectrorization.transform(new_x_test)\n",
    "    pred_LR = LR.predict(new_xv_test)\n",
    "    pred_DT = DT.predict(new_xv_test)\n",
    "    pred_GBC = GBC.predict(new_xv_test)\n",
    "    pred_RFC = RFC.predict(new_xv_test)\n",
    "    \n",
    "    return print(\"\\n\\nLR Prediction: {} \\nDT Prediction: {} \\nGBC Prediction: {} \\nRFC Prediction: {}\".format(output_lable(pred_LR[0]),\n",
    "                                                                                                              output_lable(pred_DT[0]), \n",
    "                                                                                                              output_lable(pred_GBC[0]),\n",
    "                                                                                                              output_lable(pred_RFC[0])))                                                                                            \n"
   ]
  },
  {
   "cell_type": "code",
   "execution_count": null,
   "id": "61db18b3",
   "metadata": {},
   "outputs": [],
   "source": [
    "news = str(input())\n",
    "manual_testing(news)"
   ]
  },
  {
   "cell_type": "code",
   "execution_count": null,
   "id": "1381efdf",
   "metadata": {},
   "outputs": [],
   "source": []
  },
  {
   "cell_type": "code",
   "execution_count": null,
   "id": "01a2decd",
   "metadata": {},
   "outputs": [],
   "source": []
  }
 ],
 "metadata": {
  "kernelspec": {
   "display_name": "Python 3 (ipykernel)",
   "language": "python",
   "name": "python3"
  },
  "language_info": {
   "codemirror_mode": {
    "name": "ipython",
    "version": 3
   },
   "file_extension": ".py",
   "mimetype": "text/x-python",
   "name": "python",
   "nbconvert_exporter": "python",
   "pygments_lexer": "ipython3",
   "version": "3.9.7"
  }
 },
 "nbformat": 4,
 "nbformat_minor": 5
}
